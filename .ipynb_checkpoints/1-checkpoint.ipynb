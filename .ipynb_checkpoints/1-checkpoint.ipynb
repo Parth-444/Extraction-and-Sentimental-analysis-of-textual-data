{
 "cells": [
  {
   "cell_type": "code",
   "execution_count": 1,
   "id": "a101ffbd-799f-4a09-912d-dbe174530e2e",
   "metadata": {},
   "outputs": [],
   "source": [
    "import numpy as np\n",
    "import pandas as pd\n",
    "from bs4 import BeautifulSoup\n",
    "import requests"
   ]
  },
  {
   "cell_type": "code",
   "execution_count": 2,
   "id": "a77d4e9f-c55a-4b0c-aa24-f48df4d3410a",
   "metadata": {},
   "outputs": [],
   "source": [
    "df = pd.read_excel('Input.xlsx')"
   ]
  },
  {
   "cell_type": "code",
   "execution_count": 97,
   "id": "5fc8cde1-c5f1-4cee-85a1-aabe0bfc64b7",
   "metadata": {},
   "outputs": [],
   "source": [
    "df2 = df.copy()\n",
    "df2 = df2.iloc[:5, :2]"
   ]
  },
  {
   "cell_type": "code",
   "execution_count": 98,
   "id": "2db227f9-af92-4eb2-be54-f41bed00762a",
   "metadata": {},
   "outputs": [
    {
     "data": {
      "text/html": [
       "<div>\n",
       "<style scoped>\n",
       "    .dataframe tbody tr th:only-of-type {\n",
       "        vertical-align: middle;\n",
       "    }\n",
       "\n",
       "    .dataframe tbody tr th {\n",
       "        vertical-align: top;\n",
       "    }\n",
       "\n",
       "    .dataframe thead th {\n",
       "        text-align: right;\n",
       "    }\n",
       "</style>\n",
       "<table border=\"1\" class=\"dataframe\">\n",
       "  <thead>\n",
       "    <tr style=\"text-align: right;\">\n",
       "      <th></th>\n",
       "      <th>URL_ID</th>\n",
       "      <th>URL</th>\n",
       "    </tr>\n",
       "  </thead>\n",
       "  <tbody>\n",
       "    <tr>\n",
       "      <th>0</th>\n",
       "      <td>blackassign0001</td>\n",
       "      <td>https://insights.blackcoffer.com/rising-it-cit...</td>\n",
       "    </tr>\n",
       "    <tr>\n",
       "      <th>1</th>\n",
       "      <td>blackassign0002</td>\n",
       "      <td>https://insights.blackcoffer.com/rising-it-cit...</td>\n",
       "    </tr>\n",
       "    <tr>\n",
       "      <th>2</th>\n",
       "      <td>blackassign0003</td>\n",
       "      <td>https://insights.blackcoffer.com/internet-dema...</td>\n",
       "    </tr>\n",
       "    <tr>\n",
       "      <th>3</th>\n",
       "      <td>blackassign0004</td>\n",
       "      <td>https://insights.blackcoffer.com/rise-of-cyber...</td>\n",
       "    </tr>\n",
       "    <tr>\n",
       "      <th>4</th>\n",
       "      <td>blackassign0005</td>\n",
       "      <td>https://insights.blackcoffer.com/ott-platform-...</td>\n",
       "    </tr>\n",
       "  </tbody>\n",
       "</table>\n",
       "</div>"
      ],
      "text/plain": [
       "            URL_ID                                                URL\n",
       "0  blackassign0001  https://insights.blackcoffer.com/rising-it-cit...\n",
       "1  blackassign0002  https://insights.blackcoffer.com/rising-it-cit...\n",
       "2  blackassign0003  https://insights.blackcoffer.com/internet-dema...\n",
       "3  blackassign0004  https://insights.blackcoffer.com/rise-of-cyber...\n",
       "4  blackassign0005  https://insights.blackcoffer.com/ott-platform-..."
      ]
     },
     "execution_count": 98,
     "metadata": {},
     "output_type": "execute_result"
    }
   ],
   "source": [
    "df.head(5)"
   ]
  },
  {
   "cell_type": "code",
   "execution_count": 99,
   "id": "4823cb28-999e-445a-81ac-03b876966d96",
   "metadata": {},
   "outputs": [
    {
     "data": {
      "text/html": [
       "<div>\n",
       "<style scoped>\n",
       "    .dataframe tbody tr th:only-of-type {\n",
       "        vertical-align: middle;\n",
       "    }\n",
       "\n",
       "    .dataframe tbody tr th {\n",
       "        vertical-align: top;\n",
       "    }\n",
       "\n",
       "    .dataframe thead th {\n",
       "        text-align: right;\n",
       "    }\n",
       "</style>\n",
       "<table border=\"1\" class=\"dataframe\">\n",
       "  <thead>\n",
       "    <tr style=\"text-align: right;\">\n",
       "      <th></th>\n",
       "      <th>URL_ID</th>\n",
       "      <th>URL</th>\n",
       "    </tr>\n",
       "  </thead>\n",
       "  <tbody>\n",
       "    <tr>\n",
       "      <th>0</th>\n",
       "      <td>blackassign0001</td>\n",
       "      <td>https://insights.blackcoffer.com/rising-it-cit...</td>\n",
       "    </tr>\n",
       "    <tr>\n",
       "      <th>1</th>\n",
       "      <td>blackassign0002</td>\n",
       "      <td>https://insights.blackcoffer.com/rising-it-cit...</td>\n",
       "    </tr>\n",
       "    <tr>\n",
       "      <th>2</th>\n",
       "      <td>blackassign0003</td>\n",
       "      <td>https://insights.blackcoffer.com/internet-dema...</td>\n",
       "    </tr>\n",
       "    <tr>\n",
       "      <th>3</th>\n",
       "      <td>blackassign0004</td>\n",
       "      <td>https://insights.blackcoffer.com/rise-of-cyber...</td>\n",
       "    </tr>\n",
       "    <tr>\n",
       "      <th>4</th>\n",
       "      <td>blackassign0005</td>\n",
       "      <td>https://insights.blackcoffer.com/ott-platform-...</td>\n",
       "    </tr>\n",
       "  </tbody>\n",
       "</table>\n",
       "</div>"
      ],
      "text/plain": [
       "            URL_ID                                                URL\n",
       "0  blackassign0001  https://insights.blackcoffer.com/rising-it-cit...\n",
       "1  blackassign0002  https://insights.blackcoffer.com/rising-it-cit...\n",
       "2  blackassign0003  https://insights.blackcoffer.com/internet-dema...\n",
       "3  blackassign0004  https://insights.blackcoffer.com/rise-of-cyber...\n",
       "4  blackassign0005  https://insights.blackcoffer.com/ott-platform-..."
      ]
     },
     "execution_count": 99,
     "metadata": {},
     "output_type": "execute_result"
    }
   ],
   "source": [
    "df2"
   ]
  },
  {
   "cell_type": "code",
   "execution_count": 4,
   "id": "ebcdc1d3-9fec-4ab3-b693-8396cb32b376",
   "metadata": {},
   "outputs": [
    {
     "data": {
      "text/html": [
       "<div>\n",
       "<style scoped>\n",
       "    .dataframe tbody tr th:only-of-type {\n",
       "        vertical-align: middle;\n",
       "    }\n",
       "\n",
       "    .dataframe tbody tr th {\n",
       "        vertical-align: top;\n",
       "    }\n",
       "\n",
       "    .dataframe thead th {\n",
       "        text-align: right;\n",
       "    }\n",
       "</style>\n",
       "<table border=\"1\" class=\"dataframe\">\n",
       "  <thead>\n",
       "    <tr style=\"text-align: right;\">\n",
       "      <th></th>\n",
       "      <th>URL_ID</th>\n",
       "      <th>URL</th>\n",
       "    </tr>\n",
       "  </thead>\n",
       "  <tbody>\n",
       "    <tr>\n",
       "      <th>95</th>\n",
       "      <td>blackassign0096</td>\n",
       "      <td>https://insights.blackcoffer.com/what-is-the-r...</td>\n",
       "    </tr>\n",
       "    <tr>\n",
       "      <th>96</th>\n",
       "      <td>blackassign0097</td>\n",
       "      <td>https://insights.blackcoffer.com/impact-of-cov...</td>\n",
       "    </tr>\n",
       "    <tr>\n",
       "      <th>97</th>\n",
       "      <td>blackassign0098</td>\n",
       "      <td>https://insights.blackcoffer.com/contribution-...</td>\n",
       "    </tr>\n",
       "    <tr>\n",
       "      <th>98</th>\n",
       "      <td>blackassign0099</td>\n",
       "      <td>https://insights.blackcoffer.com/how-covid-19-...</td>\n",
       "    </tr>\n",
       "    <tr>\n",
       "      <th>99</th>\n",
       "      <td>blackassign0100</td>\n",
       "      <td>https://insights.blackcoffer.com/how-will-covi...</td>\n",
       "    </tr>\n",
       "  </tbody>\n",
       "</table>\n",
       "</div>"
      ],
      "text/plain": [
       "             URL_ID                                                URL\n",
       "95  blackassign0096  https://insights.blackcoffer.com/what-is-the-r...\n",
       "96  blackassign0097  https://insights.blackcoffer.com/impact-of-cov...\n",
       "97  blackassign0098  https://insights.blackcoffer.com/contribution-...\n",
       "98  blackassign0099  https://insights.blackcoffer.com/how-covid-19-...\n",
       "99  blackassign0100  https://insights.blackcoffer.com/how-will-covi..."
      ]
     },
     "execution_count": 4,
     "metadata": {},
     "output_type": "execute_result"
    }
   ],
   "source": [
    "df.tail()"
   ]
  },
  {
   "cell_type": "code",
   "execution_count": 5,
   "id": "65f45600-e242-4917-8fb3-61be329af4c7",
   "metadata": {},
   "outputs": [],
   "source": [
    "headers = {\n",
    "    \"User-Agent\": \"Mozilla/5.0 (Windows NT 10.0; Win64; x64) AppleWebKit/537.36 (KHTML, like Gecko) Chrome/123.0.0.0 Safari/537.36\",\n",
    "    \"Accept-Encoding\": \"gzip, deflate\",\n",
    "    \"Accept\": \"text/html,application/xhtml+xml,application/xml;q=0.9,*/*;q=0.8\",\n",
    "    \"Accept-Language\": \"en-US,en;q=0.5\",\n",
    "    \"Connection\": \"keep-alive\"\n",
    "}\n"
   ]
  },
  {
   "cell_type": "markdown",
   "id": "7ec26410-4c5d-4e34-acf2-14b02361be3e",
   "metadata": {},
   "source": [
    "### Creating individual files for links, "
   ]
  },
  {
   "cell_type": "code",
   "execution_count": 20,
   "id": "dd9a5bcf-7d5f-4993-8bcd-3e527ce224b1",
   "metadata": {},
   "outputs": [],
   "source": [
    "for i in range(0, df.shape[0]):\n",
    "    link = df.iloc[i, 1]\n",
    "    webpage = requests.get(link,headers=headers).text\n",
    "    soup = BeautifulSoup(webpage, 'lxml')\n",
    "    try:\n",
    "        heading = soup.find('h1', class_='entry-title').text\n",
    "        content = soup.find('div', class_='td-post-content tagdiv-type').text\n",
    "    except Exception as e:\n",
    "        print(e)\n",
    "    with open(f'{df.iloc[i, 0]}.txt', \"w\") as f:\n",
    "        f.writelines(heading)\n",
    "        f.writelines(content)\n",
    "        if i > 1:\n",
    "            break"
   ]
  },
  {
   "cell_type": "markdown",
   "id": "97050edc-6872-4f70-8409-2f9cab715c57",
   "metadata": {},
   "source": [
    "### Opening each file and cleaning it."
   ]
  },
  {
   "cell_type": "code",
   "execution_count": null,
   "id": "e0fa0a94-7066-4de0-9ab7-167c399cf434",
   "metadata": {},
   "outputs": [],
   "source": [
    "for i in range(0, df.shape[0]):\n",
    "    with open(f'{df.iloc[i, 0]}.txt') as f:\n",
    "        # every code will be written inside this block"
   ]
  },
  {
   "cell_type": "code",
   "execution_count": 21,
   "id": "6b5f139f-e2df-41be-90e4-c953f7539000",
   "metadata": {},
   "outputs": [
    {
     "data": {
      "text/plain": [
       "'blackassign0001'"
      ]
     },
     "execution_count": 21,
     "metadata": {},
     "output_type": "execute_result"
    }
   ],
   "source": [
    "df.iloc[0,0]"
   ]
  },
  {
   "cell_type": "markdown",
   "id": "4a1762b7-ed05-4c4c-a0c0-aef71577ad7b",
   "metadata": {},
   "source": [
    "### Cleaning and Pre processing a file."
   ]
  },
  {
   "cell_type": "code",
   "execution_count": 52,
   "id": "da5caf8d-0e0e-47a1-af09-c4ff6ccc7464",
   "metadata": {},
   "outputs": [],
   "source": [
    "for i in range(0, df.shape[0]):\n",
    "    with open(f'{df.iloc[i, 0]}') as f:\n",
    "        page = f.readlines()\n",
    "        page = [i.lower() for i in page]\n",
    "        # print(page)"
   ]
  },
  {
   "cell_type": "code",
   "execution_count": 64,
   "id": "bd42a71f-1114-49ea-917b-d82b6893e90f",
   "metadata": {},
   "outputs": [],
   "source": [
    "with open('blackassign0001.txt') as f:\n",
    "    lines = f.readlines()\n",
    "    lines = [i.lower() for i in lines]\n",
    "    \n",
    "df1 = pd.DataFrame(lines)\n",
    "df1.rename(columns={0 : 'lines'}, inplace=True)\n"
   ]
  },
  {
   "cell_type": "code",
   "execution_count": 65,
   "id": "6f5544cb-4fc1-4487-ad32-12bee29930c4",
   "metadata": {},
   "outputs": [],
   "source": [
    "df1['lines'] = df1['lines'].str.strip()\n",
    "# this created some empty lines"
   ]
  },
  {
   "cell_type": "code",
   "execution_count": 66,
   "id": "aa8d14eb-7751-4364-b54e-94e618ca5dd5",
   "metadata": {},
   "outputs": [],
   "source": [
    "# this is for removing empty lines\n",
    "empty_lines = df1[df1['lines']=='']\n",
    "df1 = df1.drop(empty_lines.index).reset_index().drop(columns='index')"
   ]
  },
  {
   "cell_type": "code",
   "execution_count": 67,
   "id": "1a3c56e4-3e6f-46d8-a42f-786661803458",
   "metadata": {},
   "outputs": [],
   "source": [
    "# expanding abbreviations\n",
    "import re\n",
    "def remove_abb(data):\n",
    "    data = re.sub(r'\\b\\d{4}\\b', '', data)\n",
    "    data = re.sub(r',', '', data)\n",
    "    data = re.sub(r'[:\\-–\\.]', '', data)\n",
    "    \n",
    "    return data\n",
    "df1['lines'] = df1['lines'].apply(remove_abb)"
   ]
  },
  {
   "cell_type": "code",
   "execution_count": null,
   "id": "8477aff8-e6bc-4d4a-9592-02504321db1b",
   "metadata": {},
   "outputs": [],
   "source": []
  },
  {
   "cell_type": "code",
   "execution_count": 68,
   "id": "0c51f5aa-9daa-4c23-8d76-20944846e476",
   "metadata": {},
   "outputs": [],
   "source": [
    "# removing punctutation\n",
    "import string\n",
    "\n",
    "def remove_punctuation(text):\n",
    "    for i in string.punctuation:\n",
    "        if i in text:\n",
    "            text.replace(i, '')\n",
    "    return text\n",
    "\n",
    "df1['lines'] = df1['lines'].apply(remove_punctuation)"
   ]
  },
  {
   "cell_type": "code",
   "execution_count": 69,
   "id": "f02debb7-8263-4494-b55f-ef91ada4a425",
   "metadata": {},
   "outputs": [],
   "source": [
    "from nltk.tokenize import word_tokenize\n",
    "def tokenize(data):\n",
    "    data = word_tokenize(data)\n",
    "    return data\n",
    "df1['lines'] = df1['lines'].apply(tokenize)"
   ]
  },
  {
   "cell_type": "code",
   "execution_count": 70,
   "id": "c0fde04e-1d18-4006-822f-fa28ad99f332",
   "metadata": {},
   "outputs": [],
   "source": [
    "# removing stop words\n",
    "from nltk.corpus import stopwords\n",
    "\n",
    "def remove_stopwords(text):\n",
    "    L = []\n",
    "    for word in text:\n",
    "        if word not in stopwords.words('english'):\n",
    "            L.append(word)\n",
    "    return L\n",
    "\n",
    "df1['lines'] = df1['lines'].apply(remove_stopwords)"
   ]
  },
  {
   "cell_type": "code",
   "execution_count": 71,
   "id": "12828546-e2e0-4ba6-bf7a-ab1777d0db4b",
   "metadata": {},
   "outputs": [
    {
     "data": {
      "text/plain": [
       "['gurgaon',\n",
       " 'gurgaon',\n",
       " 'haryana',\n",
       " 'also',\n",
       " 'emerging',\n",
       " 'hub',\n",
       " 'many',\n",
       " 'large',\n",
       " 'companies',\n",
       " 'like',\n",
       " 'google',\n",
       " 'microsoft',\n",
       " 'ibm',\n",
       " 'infosys',\n",
       " 'others',\n",
       " 'set',\n",
       " 'companies',\n",
       " 'gurgaon',\n",
       " 'market',\n",
       " 'base',\n",
       " 'billions',\n",
       " 'dollars',\n",
       " 'great',\n",
       " 'job',\n",
       " 'boosting',\n",
       " 'national',\n",
       " 'economy']"
      ]
     },
     "execution_count": 71,
     "metadata": {},
     "output_type": "execute_result"
    }
   ],
   "source": [
    "df1['lines'][4]"
   ]
  },
  {
   "cell_type": "markdown",
   "id": "5ffa909d-ea8c-4ca9-802c-8215e09541d3",
   "metadata": {},
   "source": [
    "### Sentiment analysis"
   ]
  },
  {
   "cell_type": "code",
   "execution_count": 72,
   "id": "7d1b8144-f729-4718-97b4-75e9308a76db",
   "metadata": {},
   "outputs": [],
   "source": [
    "with open('negative-words.txt', 'r', encoding='utf-8', errors='ignore') as f:\n",
    "    l = f.readlines()\n",
    "    l = [i.strip() for i in l]\n",
    "    neg = np.array(l)\n",
    "with open('positive-words.txt', encoding='utf-8', errors='ignore') as f:\n",
    "    l = f.readlines()\n",
    "    l = [i.strip() for i in l]\n",
    "    pos = np.array(l)\n",
    "# positive words and negative words array."
   ]
  },
  {
   "cell_type": "code",
   "execution_count": 123,
   "id": "1724ec90-e4f9-43de-a6ea-6ec9e0be7836",
   "metadata": {
    "scrolled": true
   },
   "outputs": [
    {
     "data": {
      "text/plain": [
       "44"
      ]
     },
     "execution_count": 123,
     "metadata": {},
     "output_type": "execute_result"
    }
   ],
   "source": [
    "def check(word_list):\n",
    "    count_df = pd.DataFrame()\n",
    "    pos_count = 0\n",
    "    neg_count = 0\n",
    "    for word in word_list:\n",
    "        if word in pos:\n",
    "            pos_count += 1\n",
    "        elif word in neg:\n",
    "            neg_count += 1\n",
    "    return pos_count, neg_count\n",
    "\n",
    "s = df1['lines'].apply(check).reset_index()\n",
    "s['first'] = s['lines'].apply(lambda x: x[0])\n",
    "s['second'] = s['lines'].apply(lambda x: x[1])\n"
   ]
  },
  {
   "cell_type": "code",
   "execution_count": 104,
   "id": "865d1fe5-a06c-4c20-96a5-f664d7acb9c1",
   "metadata": {},
   "outputs": [
    {
     "data": {
      "text/html": [
       "<div>\n",
       "<style scoped>\n",
       "    .dataframe tbody tr th:only-of-type {\n",
       "        vertical-align: middle;\n",
       "    }\n",
       "\n",
       "    .dataframe tbody tr th {\n",
       "        vertical-align: top;\n",
       "    }\n",
       "\n",
       "    .dataframe thead th {\n",
       "        text-align: right;\n",
       "    }\n",
       "</style>\n",
       "<table border=\"1\" class=\"dataframe\">\n",
       "  <thead>\n",
       "    <tr style=\"text-align: right;\">\n",
       "      <th></th>\n",
       "      <th>URL_ID</th>\n",
       "      <th>URL</th>\n",
       "    </tr>\n",
       "  </thead>\n",
       "  <tbody>\n",
       "    <tr>\n",
       "      <th>0</th>\n",
       "      <td>blackassign0001</td>\n",
       "      <td>https://insights.blackcoffer.com/rising-it-cit...</td>\n",
       "    </tr>\n",
       "    <tr>\n",
       "      <th>1</th>\n",
       "      <td>blackassign0002</td>\n",
       "      <td>https://insights.blackcoffer.com/rising-it-cit...</td>\n",
       "    </tr>\n",
       "    <tr>\n",
       "      <th>2</th>\n",
       "      <td>blackassign0003</td>\n",
       "      <td>https://insights.blackcoffer.com/internet-dema...</td>\n",
       "    </tr>\n",
       "    <tr>\n",
       "      <th>3</th>\n",
       "      <td>blackassign0004</td>\n",
       "      <td>https://insights.blackcoffer.com/rise-of-cyber...</td>\n",
       "    </tr>\n",
       "    <tr>\n",
       "      <th>4</th>\n",
       "      <td>blackassign0005</td>\n",
       "      <td>https://insights.blackcoffer.com/ott-platform-...</td>\n",
       "    </tr>\n",
       "    <tr>\n",
       "      <th>...</th>\n",
       "      <td>...</td>\n",
       "      <td>...</td>\n",
       "    </tr>\n",
       "    <tr>\n",
       "      <th>95</th>\n",
       "      <td>blackassign0096</td>\n",
       "      <td>https://insights.blackcoffer.com/what-is-the-r...</td>\n",
       "    </tr>\n",
       "    <tr>\n",
       "      <th>96</th>\n",
       "      <td>blackassign0097</td>\n",
       "      <td>https://insights.blackcoffer.com/impact-of-cov...</td>\n",
       "    </tr>\n",
       "    <tr>\n",
       "      <th>97</th>\n",
       "      <td>blackassign0098</td>\n",
       "      <td>https://insights.blackcoffer.com/contribution-...</td>\n",
       "    </tr>\n",
       "    <tr>\n",
       "      <th>98</th>\n",
       "      <td>blackassign0099</td>\n",
       "      <td>https://insights.blackcoffer.com/how-covid-19-...</td>\n",
       "    </tr>\n",
       "    <tr>\n",
       "      <th>99</th>\n",
       "      <td>blackassign0100</td>\n",
       "      <td>https://insights.blackcoffer.com/how-will-covi...</td>\n",
       "    </tr>\n",
       "  </tbody>\n",
       "</table>\n",
       "<p>100 rows × 2 columns</p>\n",
       "</div>"
      ],
      "text/plain": [
       "             URL_ID                                                URL\n",
       "0   blackassign0001  https://insights.blackcoffer.com/rising-it-cit...\n",
       "1   blackassign0002  https://insights.blackcoffer.com/rising-it-cit...\n",
       "2   blackassign0003  https://insights.blackcoffer.com/internet-dema...\n",
       "3   blackassign0004  https://insights.blackcoffer.com/rise-of-cyber...\n",
       "4   blackassign0005  https://insights.blackcoffer.com/ott-platform-...\n",
       "..              ...                                                ...\n",
       "95  blackassign0096  https://insights.blackcoffer.com/what-is-the-r...\n",
       "96  blackassign0097  https://insights.blackcoffer.com/impact-of-cov...\n",
       "97  blackassign0098  https://insights.blackcoffer.com/contribution-...\n",
       "98  blackassign0099  https://insights.blackcoffer.com/how-covid-19-...\n",
       "99  blackassign0100  https://insights.blackcoffer.com/how-will-covi...\n",
       "\n",
       "[100 rows x 2 columns]"
      ]
     },
     "execution_count": 104,
     "metadata": {},
     "output_type": "execute_result"
    }
   ],
   "source": [
    "df"
   ]
  },
  {
   "cell_type": "code",
   "execution_count": null,
   "id": "7b618077-c163-4f49-aae6-7543a55831a5",
   "metadata": {},
   "outputs": [],
   "source": []
  }
 ],
 "metadata": {
  "kernelspec": {
   "display_name": "Python 3 (ipykernel)",
   "language": "python",
   "name": "python3"
  },
  "language_info": {
   "codemirror_mode": {
    "name": "ipython",
    "version": 3
   },
   "file_extension": ".py",
   "mimetype": "text/x-python",
   "name": "python",
   "nbconvert_exporter": "python",
   "pygments_lexer": "ipython3",
   "version": "3.11.5"
  }
 },
 "nbformat": 4,
 "nbformat_minor": 5
}
